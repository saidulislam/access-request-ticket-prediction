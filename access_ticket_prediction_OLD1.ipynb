{
 "cells": [
  {
   "cell_type": "markdown",
   "id": "2d31b9f0",
   "metadata": {},
   "source": [
    "# Access Ticket Prediction\n",
    "\n",
    "This notebook walks you through a **minimal viable pipeline** to:\n",
    "1. Load historical access‑request tickets.\n",
    "2. Engineer features that need *no extra systems*.\n",
    "3. Train two models:\n",
    "   * **WHO** will open a ticket in the next 7 days (classification / ranking).\n",
    "   * **WHEN** that user will open the ticket (survival analysis).\n",
    "4. Evaluate and inspect outputs.\n",
    "\n",
    "---"
   ]
  },
  {
   "cell_type": "markdown",
   "id": "77a6ddfc",
   "metadata": {},
   "source": [
    "## 0  Install / import dependencies"
   ]
  },
  {
   "cell_type": "code",
   "execution_count": 3,
   "id": "d776f8d6",
   "metadata": {},
   "outputs": [],
   "source": [
    "# Uncomment if running on a fresh environment\n",
    "#!pip install pandas numpy scikit-learn xgboost lifelines matplotlib seaborn --quiet\n",
    "import pandas as pd, numpy as np, matplotlib.pyplot as plt, seaborn as sns\n",
    "from pathlib import Path\n",
    "from datetime import timedelta\n",
    "from sklearn.model_selection import train_test_split\n",
    "from sklearn.metrics import precision_recall_curve, average_precision_score, roc_auc_score\n",
    "from xgboost import XGBClassifier\n",
    "from lifelines import CoxPHFitter\n"
   ]
  },
  {
   "cell_type": "markdown",
   "id": "a97af674",
   "metadata": {},
   "source": [
    "## 1  Load data"
   ]
  },
  {
   "cell_type": "code",
   "execution_count": 4,
   "id": "58769033",
   "metadata": {},
   "outputs": [
    {
     "name": "stdout",
     "output_type": "stream",
     "text": [
      "(500, 7)\n"
     ]
    },
    {
     "name": "stderr",
     "output_type": "stream",
     "text": [
      "/var/folders/d9/n3r0_rqx0cq6fgkzp8xmfp0r0000gn/T/ipykernel_18896/504164157.py:3: UserWarning: Could not infer format, so each element will be parsed individually, falling back to `dateutil`. To ensure parsing is consistent and as-expected, please specify a format.\n",
      "  df_raw = pd.read_csv(data_path, parse_dates=['open_datetime'])\n"
     ]
    },
    {
     "data": {
      "text/html": [
       "<div>\n",
       "<style scoped>\n",
       "    .dataframe tbody tr th:only-of-type {\n",
       "        vertical-align: middle;\n",
       "    }\n",
       "\n",
       "    .dataframe tbody tr th {\n",
       "        vertical-align: top;\n",
       "    }\n",
       "\n",
       "    .dataframe thead th {\n",
       "        text-align: right;\n",
       "    }\n",
       "</style>\n",
       "<table border=\"1\" class=\"dataframe\">\n",
       "  <thead>\n",
       "    <tr style=\"text-align: right;\">\n",
       "      <th></th>\n",
       "      <th>requester_id</th>\n",
       "      <th>open_datetime</th>\n",
       "      <th>ticket_type</th>\n",
       "      <th>application_name</th>\n",
       "      <th>errors_401_last24h</th>\n",
       "      <th>errors_403_last24h</th>\n",
       "      <th>user_active</th>\n",
       "    </tr>\n",
       "  </thead>\n",
       "  <tbody>\n",
       "    <tr>\n",
       "      <th>0</th>\n",
       "      <td>U004</td>\n",
       "      <td>2024-10-30 11:10:00</td>\n",
       "      <td>access_request</td>\n",
       "      <td>App_C</td>\n",
       "      <td>0</td>\n",
       "      <td>1</td>\n",
       "      <td>1</td>\n",
       "    </tr>\n",
       "    <tr>\n",
       "      <th>1</th>\n",
       "      <td>U037</td>\n",
       "      <td>2025-02-26 21:10:00</td>\n",
       "      <td>access_request</td>\n",
       "      <td>App_B</td>\n",
       "      <td>0</td>\n",
       "      <td>0</td>\n",
       "      <td>1</td>\n",
       "    </tr>\n",
       "    <tr>\n",
       "      <th>2</th>\n",
       "      <td>U003</td>\n",
       "      <td>2025-05-26 03:44:00</td>\n",
       "      <td>access_request</td>\n",
       "      <td>App_C</td>\n",
       "      <td>0</td>\n",
       "      <td>0</td>\n",
       "      <td>1</td>\n",
       "    </tr>\n",
       "    <tr>\n",
       "      <th>3</th>\n",
       "      <td>U011</td>\n",
       "      <td>2024-08-26 08:43:00</td>\n",
       "      <td>elevated_privilege</td>\n",
       "      <td>App_A</td>\n",
       "      <td>2</td>\n",
       "      <td>2</td>\n",
       "      <td>1</td>\n",
       "    </tr>\n",
       "    <tr>\n",
       "      <th>4</th>\n",
       "      <td>U042</td>\n",
       "      <td>2024-10-30 16:09:00</td>\n",
       "      <td>access_request</td>\n",
       "      <td>App_E</td>\n",
       "      <td>3</td>\n",
       "      <td>0</td>\n",
       "      <td>1</td>\n",
       "    </tr>\n",
       "  </tbody>\n",
       "</table>\n",
       "</div>"
      ],
      "text/plain": [
       "  requester_id       open_datetime         ticket_type application_name  \\\n",
       "0         U004 2024-10-30 11:10:00      access_request            App_C   \n",
       "1         U037 2025-02-26 21:10:00      access_request            App_B   \n",
       "2         U003 2025-05-26 03:44:00      access_request            App_C   \n",
       "3         U011 2024-08-26 08:43:00  elevated_privilege            App_A   \n",
       "4         U042 2024-10-30 16:09:00      access_request            App_E   \n",
       "\n",
       "   errors_401_last24h  errors_403_last24h  user_active  \n",
       "0                   0                   1            1  \n",
       "1                   0                   0            1  \n",
       "2                   0                   0            1  \n",
       "3                   2                   2            1  \n",
       "4                   3                   0            1  "
      ]
     },
     "execution_count": 4,
     "metadata": {},
     "output_type": "execute_result"
    }
   ],
   "source": [
    "# Point to your CSV (sample shipped with this repo / environment)\n",
    "data_path = Path('sample_access_tickets.csv')\n",
    "df_raw = pd.read_csv(data_path, parse_dates=['open_datetime'])\n",
    "print(df_raw.shape)\n",
    "df_raw.head()\n"
   ]
  },
  {
   "cell_type": "markdown",
   "id": "cf038671",
   "metadata": {},
   "source": [
    "## 2  Basic EDA"
   ]
  },
  {
   "cell_type": "code",
   "execution_count": 5,
   "id": "37d05348",
   "metadata": {},
   "outputs": [
    {
     "name": "stdout",
     "output_type": "stream",
     "text": [
      "ticket_type\n",
      "elevated_privilege    256\n",
      "access_request        244\n",
      "Name: count, dtype: int64\n",
      "50 unique users\n"
     ]
    },
    {
     "data": {
      "text/plain": [
       "(Timestamp('2024-07-02 08:14:00'), Timestamp('2025-07-21 18:15:00'))"
      ]
     },
     "execution_count": 5,
     "metadata": {},
     "output_type": "execute_result"
    }
   ],
   "source": [
    "print(df_raw['ticket_type'].value_counts(dropna=False))\n",
    "print(df_raw['requester_id'].nunique(), 'unique users')\n",
    "df_raw['open_datetime'].min(), df_raw['open_datetime'].max()\n"
   ]
  },
  {
   "cell_type": "markdown",
   "id": "db561e27",
   "metadata": {},
   "source": [
    "## 3  Feature engineering"
   ]
  },
  {
   "cell_type": "code",
   "execution_count": 6,
   "id": "35470bb5",
   "metadata": {},
   "outputs": [
    {
     "name": "stderr",
     "output_type": "stream",
     "text": [
      "/var/folders/d9/n3r0_rqx0cq6fgkzp8xmfp0r0000gn/T/ipykernel_18896/1899567097.py:12: FutureWarning: A value is trying to be set on a copy of a DataFrame or Series through chained assignment using an inplace method.\n",
      "The behavior will change in pandas 3.0. This inplace method will never work because the intermediate object on which we are setting values always behaves as a copy.\n",
      "\n",
      "For example, when doing 'df[col].method(value, inplace=True)', try using 'df.method({col: value}, inplace=True)' or df[col] = df[col].method(value) instead, to perform the operation inplace on the original object.\n",
      "\n",
      "\n",
      "  df['days_since_prev'].fillna(df['days_since_prev'].median(), inplace=True)\n"
     ]
    },
    {
     "ename": "ValueError",
     "evalue": "window must be an integer 0 or greater",
     "output_type": "error",
     "traceback": [
      "\u001b[0;31m---------------------------------------------------------------------------\u001b[0m",
      "\u001b[0;31mValueError\u001b[0m                                Traceback (most recent call last)",
      "Cell \u001b[0;32mIn[6], line 19\u001b[0m\n\u001b[1;32m     15\u001b[0m \u001b[38;5;28;01mfor\u001b[39;00m window \u001b[38;5;129;01min\u001b[39;00m [\u001b[38;5;241m7\u001b[39m, \u001b[38;5;241m30\u001b[39m]:\n\u001b[1;32m     16\u001b[0m     col \u001b[38;5;241m=\u001b[39m \u001b[38;5;124mf\u001b[39m\u001b[38;5;124m'\u001b[39m\u001b[38;5;124mcnt_\u001b[39m\u001b[38;5;132;01m{\u001b[39;00mwindow\u001b[38;5;132;01m}\u001b[39;00m\u001b[38;5;124md\u001b[39m\u001b[38;5;124m'\u001b[39m\n\u001b[1;32m     17\u001b[0m     df[col] \u001b[38;5;241m=\u001b[39m (\n\u001b[1;32m     18\u001b[0m         df\u001b[38;5;241m.\u001b[39mgroupby(\u001b[38;5;124m'\u001b[39m\u001b[38;5;124mrequester_id\u001b[39m\u001b[38;5;124m'\u001b[39m)[\u001b[38;5;124m'\u001b[39m\u001b[38;5;124mopen_datetime\u001b[39m\u001b[38;5;124m'\u001b[39m]\n\u001b[0;32m---> 19\u001b[0m           \u001b[38;5;241m.\u001b[39mtransform(\u001b[38;5;28;01mlambda\u001b[39;00m s: s\u001b[38;5;241m.\u001b[39mrolling(\u001b[38;5;124mf\u001b[39m\u001b[38;5;124m'\u001b[39m\u001b[38;5;132;01m{\u001b[39;00mwindow\u001b[38;5;132;01m}\u001b[39;00m\u001b[38;5;124mD\u001b[39m\u001b[38;5;124m'\u001b[39m)\u001b[38;5;241m.\u001b[39mcount())\n\u001b[1;32m     20\u001b[0m     )\n\u001b[1;32m     21\u001b[0m     df[col]\u001b[38;5;241m.\u001b[39mfillna(\u001b[38;5;241m0\u001b[39m, inplace\u001b[38;5;241m=\u001b[39m\u001b[38;5;28;01mTrue\u001b[39;00m)\n\u001b[1;32m     23\u001b[0m feature_cols \u001b[38;5;241m=\u001b[39m [\u001b[38;5;124m'\u001b[39m\u001b[38;5;124mdow\u001b[39m\u001b[38;5;124m'\u001b[39m, \u001b[38;5;124m'\u001b[39m\u001b[38;5;124mhour\u001b[39m\u001b[38;5;124m'\u001b[39m, \u001b[38;5;124m'\u001b[39m\u001b[38;5;124mdays_since_prev\u001b[39m\u001b[38;5;124m'\u001b[39m, \u001b[38;5;124m'\u001b[39m\u001b[38;5;124mcnt_7d\u001b[39m\u001b[38;5;124m'\u001b[39m, \u001b[38;5;124m'\u001b[39m\u001b[38;5;124mcnt_30d\u001b[39m\u001b[38;5;124m'\u001b[39m,\n\u001b[1;32m     24\u001b[0m                 \u001b[38;5;124m'\u001b[39m\u001b[38;5;124merrors_401_last24h\u001b[39m\u001b[38;5;124m'\u001b[39m, \u001b[38;5;124m'\u001b[39m\u001b[38;5;124merrors_403_last24h\u001b[39m\u001b[38;5;124m'\u001b[39m, \u001b[38;5;124m'\u001b[39m\u001b[38;5;124muser_active\u001b[39m\u001b[38;5;124m'\u001b[39m]\n",
      "File \u001b[0;32m~/Anaconda/anaconda3/lib/python3.12/site-packages/pandas/core/groupby/generic.py:517\u001b[0m, in \u001b[0;36mSeriesGroupBy.transform\u001b[0;34m(self, func, engine, engine_kwargs, *args, **kwargs)\u001b[0m\n\u001b[1;32m    514\u001b[0m \u001b[38;5;129m@Substitution\u001b[39m(klass\u001b[38;5;241m=\u001b[39m\u001b[38;5;124m\"\u001b[39m\u001b[38;5;124mSeries\u001b[39m\u001b[38;5;124m\"\u001b[39m, example\u001b[38;5;241m=\u001b[39m__examples_series_doc)\n\u001b[1;32m    515\u001b[0m \u001b[38;5;129m@Appender\u001b[39m(_transform_template)\n\u001b[1;32m    516\u001b[0m \u001b[38;5;28;01mdef\u001b[39;00m \u001b[38;5;21mtransform\u001b[39m(\u001b[38;5;28mself\u001b[39m, func, \u001b[38;5;241m*\u001b[39margs, engine\u001b[38;5;241m=\u001b[39m\u001b[38;5;28;01mNone\u001b[39;00m, engine_kwargs\u001b[38;5;241m=\u001b[39m\u001b[38;5;28;01mNone\u001b[39;00m, \u001b[38;5;241m*\u001b[39m\u001b[38;5;241m*\u001b[39mkwargs):\n\u001b[0;32m--> 517\u001b[0m     \u001b[38;5;28;01mreturn\u001b[39;00m \u001b[38;5;28mself\u001b[39m\u001b[38;5;241m.\u001b[39m_transform(\n\u001b[1;32m    518\u001b[0m         func, \u001b[38;5;241m*\u001b[39margs, engine\u001b[38;5;241m=\u001b[39mengine, engine_kwargs\u001b[38;5;241m=\u001b[39mengine_kwargs, \u001b[38;5;241m*\u001b[39m\u001b[38;5;241m*\u001b[39mkwargs\n\u001b[1;32m    519\u001b[0m     )\n",
      "File \u001b[0;32m~/Anaconda/anaconda3/lib/python3.12/site-packages/pandas/core/groupby/groupby.py:2021\u001b[0m, in \u001b[0;36mGroupBy._transform\u001b[0;34m(self, func, engine, engine_kwargs, *args, **kwargs)\u001b[0m\n\u001b[1;32m   2018\u001b[0m     warn_alias_replacement(\u001b[38;5;28mself\u001b[39m, orig_func, func)\n\u001b[1;32m   2020\u001b[0m \u001b[38;5;28;01mif\u001b[39;00m \u001b[38;5;129;01mnot\u001b[39;00m \u001b[38;5;28misinstance\u001b[39m(func, \u001b[38;5;28mstr\u001b[39m):\n\u001b[0;32m-> 2021\u001b[0m     \u001b[38;5;28;01mreturn\u001b[39;00m \u001b[38;5;28mself\u001b[39m\u001b[38;5;241m.\u001b[39m_transform_general(func, engine, engine_kwargs, \u001b[38;5;241m*\u001b[39margs, \u001b[38;5;241m*\u001b[39m\u001b[38;5;241m*\u001b[39mkwargs)\n\u001b[1;32m   2023\u001b[0m \u001b[38;5;28;01melif\u001b[39;00m func \u001b[38;5;129;01mnot\u001b[39;00m \u001b[38;5;129;01min\u001b[39;00m base\u001b[38;5;241m.\u001b[39mtransform_kernel_allowlist:\n\u001b[1;32m   2024\u001b[0m     msg \u001b[38;5;241m=\u001b[39m \u001b[38;5;124mf\u001b[39m\u001b[38;5;124m\"\u001b[39m\u001b[38;5;124m'\u001b[39m\u001b[38;5;132;01m{\u001b[39;00mfunc\u001b[38;5;132;01m}\u001b[39;00m\u001b[38;5;124m'\u001b[39m\u001b[38;5;124m is not a valid function name for transform(name)\u001b[39m\u001b[38;5;124m\"\u001b[39m\n",
      "File \u001b[0;32m~/Anaconda/anaconda3/lib/python3.12/site-packages/pandas/core/groupby/generic.py:557\u001b[0m, in \u001b[0;36mSeriesGroupBy._transform_general\u001b[0;34m(self, func, engine, engine_kwargs, *args, **kwargs)\u001b[0m\n\u001b[1;32m    552\u001b[0m \u001b[38;5;28;01mfor\u001b[39;00m name, group \u001b[38;5;129;01min\u001b[39;00m \u001b[38;5;28mself\u001b[39m\u001b[38;5;241m.\u001b[39m_grouper\u001b[38;5;241m.\u001b[39mget_iterator(\n\u001b[1;32m    553\u001b[0m     \u001b[38;5;28mself\u001b[39m\u001b[38;5;241m.\u001b[39m_obj_with_exclusions, axis\u001b[38;5;241m=\u001b[39m\u001b[38;5;28mself\u001b[39m\u001b[38;5;241m.\u001b[39maxis\n\u001b[1;32m    554\u001b[0m ):\n\u001b[1;32m    555\u001b[0m     \u001b[38;5;66;03m# this setattr is needed for test_transform_lambda_with_datetimetz\u001b[39;00m\n\u001b[1;32m    556\u001b[0m     \u001b[38;5;28mobject\u001b[39m\u001b[38;5;241m.\u001b[39m\u001b[38;5;21m__setattr__\u001b[39m(group, \u001b[38;5;124m\"\u001b[39m\u001b[38;5;124mname\u001b[39m\u001b[38;5;124m\"\u001b[39m, name)\n\u001b[0;32m--> 557\u001b[0m     res \u001b[38;5;241m=\u001b[39m func(group, \u001b[38;5;241m*\u001b[39margs, \u001b[38;5;241m*\u001b[39m\u001b[38;5;241m*\u001b[39mkwargs)\n\u001b[1;32m    559\u001b[0m     results\u001b[38;5;241m.\u001b[39mappend(klass(res, index\u001b[38;5;241m=\u001b[39mgroup\u001b[38;5;241m.\u001b[39mindex))\n\u001b[1;32m    561\u001b[0m \u001b[38;5;66;03m# check for empty \"results\" to avoid concat ValueError\u001b[39;00m\n",
      "Cell \u001b[0;32mIn[6], line 19\u001b[0m, in \u001b[0;36m<lambda>\u001b[0;34m(s)\u001b[0m\n\u001b[1;32m     15\u001b[0m \u001b[38;5;28;01mfor\u001b[39;00m window \u001b[38;5;129;01min\u001b[39;00m [\u001b[38;5;241m7\u001b[39m, \u001b[38;5;241m30\u001b[39m]:\n\u001b[1;32m     16\u001b[0m     col \u001b[38;5;241m=\u001b[39m \u001b[38;5;124mf\u001b[39m\u001b[38;5;124m'\u001b[39m\u001b[38;5;124mcnt_\u001b[39m\u001b[38;5;132;01m{\u001b[39;00mwindow\u001b[38;5;132;01m}\u001b[39;00m\u001b[38;5;124md\u001b[39m\u001b[38;5;124m'\u001b[39m\n\u001b[1;32m     17\u001b[0m     df[col] \u001b[38;5;241m=\u001b[39m (\n\u001b[1;32m     18\u001b[0m         df\u001b[38;5;241m.\u001b[39mgroupby(\u001b[38;5;124m'\u001b[39m\u001b[38;5;124mrequester_id\u001b[39m\u001b[38;5;124m'\u001b[39m)[\u001b[38;5;124m'\u001b[39m\u001b[38;5;124mopen_datetime\u001b[39m\u001b[38;5;124m'\u001b[39m]\n\u001b[0;32m---> 19\u001b[0m           \u001b[38;5;241m.\u001b[39mtransform(\u001b[38;5;28;01mlambda\u001b[39;00m s: s\u001b[38;5;241m.\u001b[39mrolling(\u001b[38;5;124mf\u001b[39m\u001b[38;5;124m'\u001b[39m\u001b[38;5;132;01m{\u001b[39;00mwindow\u001b[38;5;132;01m}\u001b[39;00m\u001b[38;5;124mD\u001b[39m\u001b[38;5;124m'\u001b[39m)\u001b[38;5;241m.\u001b[39mcount())\n\u001b[1;32m     20\u001b[0m     )\n\u001b[1;32m     21\u001b[0m     df[col]\u001b[38;5;241m.\u001b[39mfillna(\u001b[38;5;241m0\u001b[39m, inplace\u001b[38;5;241m=\u001b[39m\u001b[38;5;28;01mTrue\u001b[39;00m)\n\u001b[1;32m     23\u001b[0m feature_cols \u001b[38;5;241m=\u001b[39m [\u001b[38;5;124m'\u001b[39m\u001b[38;5;124mdow\u001b[39m\u001b[38;5;124m'\u001b[39m, \u001b[38;5;124m'\u001b[39m\u001b[38;5;124mhour\u001b[39m\u001b[38;5;124m'\u001b[39m, \u001b[38;5;124m'\u001b[39m\u001b[38;5;124mdays_since_prev\u001b[39m\u001b[38;5;124m'\u001b[39m, \u001b[38;5;124m'\u001b[39m\u001b[38;5;124mcnt_7d\u001b[39m\u001b[38;5;124m'\u001b[39m, \u001b[38;5;124m'\u001b[39m\u001b[38;5;124mcnt_30d\u001b[39m\u001b[38;5;124m'\u001b[39m,\n\u001b[1;32m     24\u001b[0m                 \u001b[38;5;124m'\u001b[39m\u001b[38;5;124merrors_401_last24h\u001b[39m\u001b[38;5;124m'\u001b[39m, \u001b[38;5;124m'\u001b[39m\u001b[38;5;124merrors_403_last24h\u001b[39m\u001b[38;5;124m'\u001b[39m, \u001b[38;5;124m'\u001b[39m\u001b[38;5;124muser_active\u001b[39m\u001b[38;5;124m'\u001b[39m]\n",
      "File \u001b[0;32m~/Anaconda/anaconda3/lib/python3.12/site-packages/pandas/core/generic.py:12580\u001b[0m, in \u001b[0;36mNDFrame.rolling\u001b[0;34m(self, window, min_periods, center, win_type, on, axis, closed, step, method)\u001b[0m\n\u001b[1;32m  12566\u001b[0m \u001b[38;5;28;01mif\u001b[39;00m win_type \u001b[38;5;129;01mis\u001b[39;00m \u001b[38;5;129;01mnot\u001b[39;00m \u001b[38;5;28;01mNone\u001b[39;00m:\n\u001b[1;32m  12567\u001b[0m     \u001b[38;5;28;01mreturn\u001b[39;00m Window(\n\u001b[1;32m  12568\u001b[0m         \u001b[38;5;28mself\u001b[39m,\n\u001b[1;32m  12569\u001b[0m         window\u001b[38;5;241m=\u001b[39mwindow,\n\u001b[0;32m   (...)\u001b[0m\n\u001b[1;32m  12577\u001b[0m         method\u001b[38;5;241m=\u001b[39mmethod,\n\u001b[1;32m  12578\u001b[0m     )\n\u001b[0;32m> 12580\u001b[0m \u001b[38;5;28;01mreturn\u001b[39;00m Rolling(\n\u001b[1;32m  12581\u001b[0m     \u001b[38;5;28mself\u001b[39m,\n\u001b[1;32m  12582\u001b[0m     window\u001b[38;5;241m=\u001b[39mwindow,\n\u001b[1;32m  12583\u001b[0m     min_periods\u001b[38;5;241m=\u001b[39mmin_periods,\n\u001b[1;32m  12584\u001b[0m     center\u001b[38;5;241m=\u001b[39mcenter,\n\u001b[1;32m  12585\u001b[0m     win_type\u001b[38;5;241m=\u001b[39mwin_type,\n\u001b[1;32m  12586\u001b[0m     on\u001b[38;5;241m=\u001b[39mon,\n\u001b[1;32m  12587\u001b[0m     axis\u001b[38;5;241m=\u001b[39maxis,\n\u001b[1;32m  12588\u001b[0m     closed\u001b[38;5;241m=\u001b[39mclosed,\n\u001b[1;32m  12589\u001b[0m     step\u001b[38;5;241m=\u001b[39mstep,\n\u001b[1;32m  12590\u001b[0m     method\u001b[38;5;241m=\u001b[39mmethod,\n\u001b[1;32m  12591\u001b[0m )\n",
      "File \u001b[0;32m~/Anaconda/anaconda3/lib/python3.12/site-packages/pandas/core/window/rolling.py:170\u001b[0m, in \u001b[0;36mBaseWindow.__init__\u001b[0;34m(self, obj, window, min_periods, center, win_type, axis, on, closed, step, method, selection)\u001b[0m\n\u001b[1;32m    164\u001b[0m     \u001b[38;5;28;01mraise\u001b[39;00m \u001b[38;5;167;01mValueError\u001b[39;00m(\n\u001b[1;32m    165\u001b[0m         \u001b[38;5;124mf\u001b[39m\u001b[38;5;124m\"\u001b[39m\u001b[38;5;124minvalid on specified as \u001b[39m\u001b[38;5;132;01m{\u001b[39;00m\u001b[38;5;28mself\u001b[39m\u001b[38;5;241m.\u001b[39mon\u001b[38;5;132;01m}\u001b[39;00m\u001b[38;5;124m, \u001b[39m\u001b[38;5;124m\"\u001b[39m\n\u001b[1;32m    166\u001b[0m         \u001b[38;5;124m\"\u001b[39m\u001b[38;5;124mmust be a column (of DataFrame), an Index or None\u001b[39m\u001b[38;5;124m\"\u001b[39m\n\u001b[1;32m    167\u001b[0m     )\n\u001b[1;32m    169\u001b[0m \u001b[38;5;28mself\u001b[39m\u001b[38;5;241m.\u001b[39m_selection \u001b[38;5;241m=\u001b[39m selection\n\u001b[0;32m--> 170\u001b[0m \u001b[38;5;28mself\u001b[39m\u001b[38;5;241m.\u001b[39m_validate()\n",
      "File \u001b[0;32m~/Anaconda/anaconda3/lib/python3.12/site-packages/pandas/core/window/rolling.py:1914\u001b[0m, in \u001b[0;36mRolling._validate\u001b[0;34m(self)\u001b[0m\n\u001b[1;32m   1912\u001b[0m     \u001b[38;5;28;01mpass\u001b[39;00m\n\u001b[1;32m   1913\u001b[0m \u001b[38;5;28;01melif\u001b[39;00m \u001b[38;5;129;01mnot\u001b[39;00m is_integer(\u001b[38;5;28mself\u001b[39m\u001b[38;5;241m.\u001b[39mwindow) \u001b[38;5;129;01mor\u001b[39;00m \u001b[38;5;28mself\u001b[39m\u001b[38;5;241m.\u001b[39mwindow \u001b[38;5;241m<\u001b[39m \u001b[38;5;241m0\u001b[39m:\n\u001b[0;32m-> 1914\u001b[0m     \u001b[38;5;28;01mraise\u001b[39;00m \u001b[38;5;167;01mValueError\u001b[39;00m(\u001b[38;5;124m\"\u001b[39m\u001b[38;5;124mwindow must be an integer 0 or greater\u001b[39m\u001b[38;5;124m\"\u001b[39m)\n",
      "\u001b[0;31mValueError\u001b[0m: window must be an integer 0 or greater"
     ]
    }
   ],
   "source": [
    "df = df_raw.copy()\n",
    "# Basic temporal features\n",
    "df['dow'] = df['open_datetime'].dt.dayofweek  # 0=Mon\n",
    "df['hour'] = df['open_datetime'].dt.hour\n",
    "\n",
    "# Sort for per‑user calculations\n",
    "df = df.sort_values(['requester_id', 'open_datetime']).reset_index(drop=True)\n",
    "\n",
    "# Days since last ticket per user\n",
    "df['prev_open'] = df.groupby('requester_id')['open_datetime'].shift(1)\n",
    "df['days_since_prev'] = (df['open_datetime'] - df['prev_open']).dt.total_seconds() / 86400\n",
    "df['days_since_prev'].fillna(df['days_since_prev'].median(), inplace=True)\n",
    "\n",
    "# Rolling ticket counts (past 7 and 30 days)\n",
    "for window in [7, 30]:\n",
    "    col = f'cnt_{window}d'\n",
    "    df[col] = (\n",
    "        df.groupby('requester_id')['open_datetime']\n",
    "          .transform(lambda s: s.rolling(f'{window}D').count())\n",
    "    )\n",
    "    df[col].fillna(0, inplace=True)\n",
    "\n",
    "feature_cols = ['dow', 'hour', 'days_since_prev', 'cnt_7d', 'cnt_30d',\n",
    "                'errors_401_last24h', 'errors_403_last24h', 'user_active']\n",
    "df[feature_cols].head()\n"
   ]
  },
  {
   "cell_type": "markdown",
   "id": "7bfaeca1",
   "metadata": {},
   "source": [
    "### 3.1  Labels for *WHO* model"
   ]
  },
  {
   "cell_type": "code",
   "execution_count": null,
   "id": "e829fd2a",
   "metadata": {},
   "outputs": [],
   "source": [
    "H = 7  # prediction horizon in days\n",
    "df['next_open'] = df.groupby('requester_id')['open_datetime'].shift(-1)\n",
    "df['days_to_next'] = (df['next_open'] - df['open_datetime']).dt.total_seconds() / 86400\n",
    "df['y_who'] = (df['days_to_next'] <= H).astype(int).fillna(0)\n",
    "print(df['y_who'].value_counts(normalize=True))\n"
   ]
  },
  {
   "cell_type": "markdown",
   "id": "ca31da27",
   "metadata": {},
   "source": [
    "## 4  Train / test split (time‑based)"
   ]
  },
  {
   "cell_type": "code",
   "execution_count": null,
   "id": "84bafa11",
   "metadata": {},
   "outputs": [],
   "source": [
    "cutoff_date = df['open_datetime'].quantile(0.8)\n",
    "train = df[df['open_datetime'] <= cutoff_date]\n",
    "test  = df[df['open_datetime']  > cutoff_date]\n",
    "X_train, y_train = train[feature_cols], train['y_who']\n",
    "X_test,  y_test  = test[feature_cols],  test['y_who']\n",
    "print(train.shape, test.shape)\n"
   ]
  },
  {
   "cell_type": "markdown",
   "id": "16979bbb",
   "metadata": {},
   "source": [
    "## 5  Train *WHO* model (XGBoost)"
   ]
  },
  {
   "cell_type": "code",
   "execution_count": null,
   "id": "40a7d6c7",
   "metadata": {},
   "outputs": [],
   "source": [
    "model_who = XGBClassifier(\n",
    "    n_estimators=250,\n",
    "    learning_rate=0.1,\n",
    "    max_depth=5,\n",
    "    subsample=0.8,\n",
    "    colsample_bytree=0.8,\n",
    "    objective='binary:logistic',\n",
    "    eval_metric='aucpr',\n",
    "    random_state=42\n",
    ")\n",
    "model_who.fit(X_train, y_train)\n",
    "pred_probs = model_who.predict_proba(X_test)[:,1]\n",
    "ap = average_precision_score(y_test, pred_probs)\n",
    "roc = roc_auc_score(y_test, pred_probs)\n",
    "print(f'Average Precision (PR AUC): {ap:.3f}\\nROC AUC: {roc:.3f}')\n"
   ]
  },
  {
   "cell_type": "code",
   "execution_count": null,
   "id": "65ca5ba8",
   "metadata": {},
   "outputs": [],
   "source": [
    "prec, recall, thr = precision_recall_curve(y_test, pred_probs)\n",
    "plt.figure(figsize=(4,3))\n",
    "plt.step(recall, prec, where='post')\n",
    "plt.xlabel('Recall'); plt.ylabel('Precision'); plt.title('WHO model PR curve')\n",
    "plt.show()\n"
   ]
  },
  {
   "cell_type": "markdown",
   "id": "2da2e3f4",
   "metadata": {},
   "source": [
    "### 5.1  Top‑10 user predictions for next horizon"
   ]
  },
  {
   "cell_type": "code",
   "execution_count": null,
   "id": "f3c4a260",
   "metadata": {},
   "outputs": [],
   "source": [
    "# Take most recent record per user in test set\n",
    "latest_test = test.sort_values('open_datetime').groupby('requester_id').tail(1)\n",
    "scores = model_who.predict_proba(latest_test[feature_cols])[:,1]\n",
    "top10 = (\n",
    "    latest_test.assign(score=scores)\n",
    "    .sort_values('score', ascending=False)\n",
    "    .head(10)[['requester_id', 'open_datetime', 'score']]\n",
    ")\n",
    "top10\n"
   ]
  },
  {
   "cell_type": "markdown",
   "id": "59ad5520",
   "metadata": {},
   "source": [
    "## 6  Train *WHEN* model (Cox Proportional Hazards)"
   ]
  },
  {
   "cell_type": "code",
   "execution_count": null,
   "id": "d3ce02b1",
   "metadata": {},
   "outputs": [],
   "source": [
    "# Prepare survival dataset per user\n",
    "surv = (\n",
    "    df.groupby('requester_id')\n",
    "      .apply(lambda g: pd.Series({\n",
    "          'duration': (g['open_datetime'].max() - g['open_datetime'].min()).days + 0.1,\n",
    "          'event': 1  # at least one ticket observed\n",
    "      }))\n",
    "      .reset_index()\n",
    ")\n",
    "\n",
    "# Aggregate user‑level features (mean)\n",
    "user_feats = df.groupby('requester_id')[feature_cols].mean().reset_index()\n",
    "surv_df = pd.merge(surv, user_feats, on='requester_id')\n",
    "\n",
    "# Train/test split\n",
    "train_u, test_u = train_test_split(surv_df, test_size=0.2, random_state=42)\n",
    "\n",
    "cph = CoxPHFitter()\n",
    "cph.fit(train_u.drop(columns=['requester_id']), duration_col='duration', event_col='event')\n",
    "cph.print_summary()\n",
    "\n",
    "# Concordance on test set\n",
    "from lifelines.utils import concordance_index\n",
    "pred_surv = -cph.predict_partial_hazard(test_u)\n",
    "cindex = concordance_index(test_u['duration'], pred_surv, test_u['event'])\n",
    "print(f'C‑index on held‑out users: {cindex:.3f}')\n"
   ]
  }
 ],
 "metadata": {
  "kernelspec": {
   "display_name": "Python 3 (ipykernel)",
   "language": "python",
   "name": "python3"
  },
  "language_info": {
   "codemirror_mode": {
    "name": "ipython",
    "version": 3
   },
   "file_extension": ".py",
   "mimetype": "text/x-python",
   "name": "python",
   "nbconvert_exporter": "python",
   "pygments_lexer": "ipython3",
   "version": "3.12.7"
  }
 },
 "nbformat": 4,
 "nbformat_minor": 5
}
