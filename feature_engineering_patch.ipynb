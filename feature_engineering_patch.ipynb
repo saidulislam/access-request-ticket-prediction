{
 "cells": [
  {
   "cell_type": "markdown",
   "id": "dfa6812f",
   "metadata": {},
   "source": [
    "# 🔧 Patch: Robust Feature‑Engineering Cell\n",
    "\n",
    "Copy–paste the **code cell below** into your notebook to replace the original Step 3 Feature‑Engineering block. It avoids the Pandas 3.0 chained‑assignment warning and fixes the `'window must be an integer'` error that occurs when using time‑offset rolling windows inside a `groupby`.\n"
   ]
  },
  {
   "cell_type": "code",
   "execution_count": null,
   "id": "c6e220d1",
   "metadata": {},
   "outputs": [],
   "source": [
    "\n",
    "### ==== 3  Feature engineering (robust version) ====\n",
    "import pandas as pd, numpy as np\n",
    "\n",
    "df = df_raw.copy()\n",
    "\n",
    "# 1️⃣ Temporal atoms\n",
    "df['dow']  = df['open_datetime'].dt.dayofweek      # 0 = Monday\n",
    "df['hour'] = df['open_datetime'].dt.hour\n",
    "\n",
    "# 2️⃣ Days since previous ticket per user\n",
    "df = df.sort_values(['requester_id', 'open_datetime'])\n",
    "df['prev_open'] = df.groupby('requester_id')['open_datetime'].shift(1)\n",
    "df['days_since_prev'] = (\n",
    "    (df['open_datetime'] - df['prev_open']).dt.total_seconds() / 86_400\n",
    ")\n",
    "median_gap = df['days_since_prev'].median()\n",
    "df.loc[df['days_since_prev'].isna(), 'days_since_prev'] = median_gap   # no chained‑assign\n",
    "\n",
    "# 3️⃣ Rolling ticket counts (past 7 & 30 days) — compatible with any Pandas ≥ 1.4\n",
    "def _rolling_count(group, window_days):\n",
    "    # create a dummy series = 1 and set datetime index\n",
    "    ts = group.assign(dummy=1).set_index('open_datetime')['dummy']\n",
    "    return ts.rolling(f'{window_days}D').sum().values  # numpy array keeps row order\n",
    "\n",
    "for win in [7, 30]:\n",
    "    df[f'cnt_{win}d'] = (\n",
    "        df.groupby('requester_id', group_keys=False)\n",
    "          .apply(lambda g: _rolling_count(g, win))\n",
    "          .astype(int)\n",
    "    )\n",
    "\n",
    "# 4️⃣ Final feature matrix\n",
    "feature_cols = [\n",
    "    'dow', 'hour', 'days_since_prev',\n",
    "    'cnt_7d', 'cnt_30d',\n",
    "    'errors_401_last24h', 'errors_403_last24h', 'user_active'\n",
    "]\n",
    "\n",
    "df[feature_cols].head()\n"
   ]
  }
 ],
 "metadata": {
  "kernelspec": {
   "display_name": "Python 3 (ipykernel)",
   "language": "python",
   "name": "python3"
  },
  "language_info": {
   "codemirror_mode": {
    "name": "ipython",
    "version": 3
   },
   "file_extension": ".py",
   "mimetype": "text/x-python",
   "name": "python",
   "nbconvert_exporter": "python",
   "pygments_lexer": "ipython3",
   "version": "3.12.7"
  }
 },
 "nbformat": 4,
 "nbformat_minor": 5
}
