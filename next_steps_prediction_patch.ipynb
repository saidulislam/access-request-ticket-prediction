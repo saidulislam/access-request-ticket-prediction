{
 "cells": [
  {
   "cell_type": "markdown",
   "id": "0154719d",
   "metadata": {},
   "source": [
    "# 📌 Next‑Steps Patch: Evaluation & Live Prediction Cells\n",
    "\n",
    "Copy **each code cell** into your main access‑ticket notebook *after Step 6*.\n",
    "\n",
    "1. **6 a. Evaluate the WHO model** – PR AUC, ROC AUC, Top‑10 Recall.  \n",
    "2. **6 b. Evaluate the WHEN model** – MAE, C‑index.  \n",
    "3. **7.  Generate live predictions** – top N users and expected hours to ticket.\n",
    "\n",
    "> **Requirement:** the variables created in the earlier notebook (e.g., `df`, `feature_cols`, `model_who`, `cph`, `test`, `X_test`, `y_test`, `test_u`) must already be in memory.\n"
   ]
  },
  {
   "cell_type": "code",
   "execution_count": null,
   "id": "a572ab4f",
   "metadata": {},
   "outputs": [],
   "source": [
    "### ==== 6 a  WHO model – full test‑set metrics ====\n",
    "from sklearn.metrics import average_precision_score, roc_auc_score, precision_recall_curve\n",
    "\n",
    "# Probabilities for test set\n",
    "probs_test = model_who.predict_proba(X_test)[:, 1]\n",
    "\n",
    "# Classic metrics\n",
    "pr_auc  = average_precision_score(y_test, probs_test)\n",
    "roc_auc = roc_auc_score(y_test, probs_test)\n",
    "print(f\"WHO  – PR AUC = {pr_auc:.3f}   ROC AUC = {roc_auc:.3f}\")\n",
    "\n",
    "# ---- Top‑k recall ----\n",
    "k = 10\n",
    "next_tickets = test[test['y_who'] == 1]\n",
    "\n",
    "# Latest record per user in test\n",
    "latest_rows = (\n",
    "    test.sort_values('open_datetime')\n",
    "        .groupby('requester_id')\n",
    "        .tail(1)\n",
    "        .assign(prob=probs_test)\n",
    ")\n",
    "\n",
    "topk_users = (latest_rows.sort_values('prob', ascending=False)\n",
    "                           .head(k)['requester_id']\n",
    "                           .tolist())\n",
    "\n",
    "recall_at_k = next_tickets['requester_id'].isin(topk_users).mean()\n",
    "print(f\"WHO  – Top‑{k} recall (7‑day horizon): {recall_at_k:.2%}\")"
   ]
  },
  {
   "cell_type": "code",
   "execution_count": null,
   "id": "1eb31d7d",
   "metadata": {},
   "outputs": [],
   "source": [
    "### ==== 6 b  WHEN model – test MAE & C‑index ====\n",
    "from lifelines.utils import concordance_index\n",
    "\n",
    "# Median predicted days to event\n",
    "median_pred_days = cph.predict_median(test_u).rename('pred_days')\n",
    "actual_days      = test_u['duration']\n",
    "\n",
    "mae = (median_pred_days - actual_days).abs().mean()\n",
    "print(f\"WHEN – MAE on users with next ticket: {mae:.1f} days\")\n",
    "\n",
    "cindex = concordance_index(actual_days, -cph.predict_partial_hazard(test_u), test_u['event'])\n",
    "print(f\"WHEN – C‑index: {cindex:.3f}\")"
   ]
  },
  {
   "cell_type": "code",
   "execution_count": null,
   "id": "fba905c6",
   "metadata": {},
   "outputs": [],
   "source": [
    "### ==== 7  Predict who & when *today* ====\n",
    "H_PRED = 7   # horizon in days\n",
    "TOP_N  = 10\n",
    "\n",
    "today_dt = df['open_datetime'].max()\n",
    "\n",
    "# Latest row per user\n",
    "latest_rows_now = (\n",
    "    df[df['open_datetime'] <= today_dt]\n",
    "      .sort_values('open_datetime')\n",
    "      .groupby('requester_id')\n",
    "      .tail(1)\n",
    ")\n",
    "\n",
    "latest_rows_now = latest_rows_now.assign(\n",
    "    prob_who = model_who.predict_proba(latest_rows_now[feature_cols])[:, 1]\n",
    ")\n",
    "\n",
    "candidates = (latest_rows_now.sort_values('prob_who', ascending=False)\n",
    "              .head(TOP_N)\n",
    "              .copy())\n",
    "\n",
    "# Aggregate features per candidate for WHEN model\n",
    "user_feats_now = candidates.groupby('requester_id')[feature_cols].mean().reset_index()\n",
    "user_feats_now['pred_hours_to_ticket'] = cph.predict_expected(user_feats_now) * 24  # days→hours\n",
    "\n",
    "# Merge and display\n",
    "final_pred = (candidates[['requester_id', 'prob_who']]\n",
    "              .merge(user_feats_now[['requester_id', 'pred_hours_to_ticket']],\n",
    "                     on='requester_id')\n",
    "              .sort_values('prob_who', ascending=False)\n",
    "              .reset_index(drop=True))\n",
    "final_pred"
   ]
  }
 ],
 "metadata": {
  "kernelspec": {
   "display_name": "Python 3 (ipykernel)",
   "language": "python",
   "name": "python3"
  },
  "language_info": {
   "codemirror_mode": {
    "name": "ipython",
    "version": 3
   },
   "file_extension": ".py",
   "mimetype": "text/x-python",
   "name": "python",
   "nbconvert_exporter": "python",
   "pygments_lexer": "ipython3",
   "version": "3.12.7"
  }
 },
 "nbformat": 4,
 "nbformat_minor": 5
}
